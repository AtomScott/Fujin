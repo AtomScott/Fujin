{
 "nbformat": 4,
 "nbformat_minor": 2,
 "metadata": {
  "language_info": {
   "name": "python",
   "codemirror_mode": {
    "name": "ipython",
    "version": 3
   },
   "version": "3.7.3-final"
  },
  "orig_nbformat": 2,
  "file_extension": ".py",
  "mimetype": "text/x-python",
  "name": "python",
  "npconvert_exporter": "python",
  "pygments_lexer": "ipython3",
  "version": 3,
  "kernelspec": {
   "name": "python37364bitbasecondaa8a6bfa9701743b98419d3db2ff1ad25",
   "display_name": "Python 3.7.3 64-bit ('base': conda)"
  }
 },
 "cells": [
  {
   "cell_type": "markdown",
   "execution_count": null,
   "metadata": {},
   "outputs": [],
   "source": [
    "# Sample Notebook"
   ]
  },
  {
   "cell_type": "code",
   "execution_count": 54,
   "metadata": {},
   "outputs": [
    {
     "name": "stdout",
     "output_type": "stream",
     "text": "The autoreload extension is already loaded. To reload it, use:\n  %reload_ext autoreload\n"
    }
   ],
   "source": [
    "%load_ext autoreload\n",
    "%autoreload 2"
   ]
  },
  {
   "cell_type": "markdown",
   "execution_count": null,
   "metadata": {},
   "outputs": [],
   "source": [
    "This notebook assumes that the following packages are already imported."
   ]
  },
  {
   "cell_type": "code",
   "execution_count": 55,
   "metadata": {},
   "outputs": [],
   "source": [
    "from fujin import Fujin\n",
    "from jinja2 import Environment, FileSystemLoader"
   ]
  },
  {
   "cell_type": "markdown",
   "execution_count": null,
   "metadata": {},
   "outputs": [],
   "source": [
    "Check whether the current working directory is correct."
   ]
  },
  {
   "cell_type": "code",
   "execution_count": 56,
   "metadata": {},
   "outputs": [],
   "source": [
    "import os\n",
    "\n",
    "if os.path.basename(os.getcwd())!='Fujin':\n",
    "    os.chdir('../')\n",
    "assert os.path.basename(os.getcwd())=='Fujin', os.getcwd()"
   ]
  },
  {
   "cell_type": "code",
   "execution_count": 57,
   "metadata": {},
   "outputs": [
    {
     "name": "stdout",
     "output_type": "stream",
     "text": "['fujin.example', 'fujin.fujin']\n['fujin.fujin.Fujin', 'fujin.fujin.parse_args', 'fujin.fujin.tester_func']\n[<numpydoc.docscrape.FunctionDoc object at 0x7fab15b9f400>, <numpydoc.docscrape.ClassDoc object at 0x7fab046f4cc0>, <numpydoc.docscrape.FunctionDoc object at 0x7fab0471dc88>, <numpydoc.docscrape.FunctionDoc object at 0x7fab042e76a0>]\n"
    }
   ],
   "source": [
    "package_dirs = ['fujin']\n",
    "foo = Fujin(package_dirs, '', 'docs/docs/API-Reference')\n",
    "\n",
    "# print discovered modules\n",
    "print(foo.get_modules())\n",
    "\n",
    "# print discovered members (functions and classes)\n",
    "print(foo.get_members(['fujin.fujin']))\n",
    "\n",
    "# print discovered objs as doc objs\n",
    "print(foo.docs)"
   ]
  },
  {
   "cell_type": "markdown",
   "execution_count": null,
   "metadata": {},
   "outputs": [],
   "source": [
    "A Function/Class doc object contains all the information that can be found in the respective function/class docstring. Please note that the docstring must be written in [Numpy Style](https://numpydoc.readthedocs.io/en/latest/format.html). \n",
    "\n",
    "Let's print a sample of the docs below."
   ]
  },
  {
   "cell_type": "code",
   "execution_count": 110,
   "metadata": {},
   "outputs": [
    {
     "name": "stdout",
     "output_type": "stream",
     "text": ".. function:: foo\n    \n\nfoo(var1, var2, long_var_name='hi')\n\nSummarize the function in one line.\n\nSeveral sentences providing an extended description. Refer to\nvariables using back-ticks, e.g. `var`.\n\nParameters\n----------\nvar1 : array_like\n    Array_like means all those objects -- lists, nested lists, etc. --\n    that can be converted to an array.  We can also refer to\n    variables like `var1`.\nvar2 : int\n    The type above can either refer to an actual Python type\n    (e.g. ``int``), or describe the type of the variable in more\n    detail, e.g. ``(N,) ndarray`` or ``array_like``.\nlong_var_name : {'hi', 'ho'}, optional\n    Choices in brackets, default first when optional.\n\nReturns\n-------\ntype\n    Explanation of anonymous return value of type ``type``.\ndescribe : type\n    Explanation of return value named `describe`.\nout : type\n    Explanation of `out`.\ntype_without_description\n\nOther Parameters\n----------------\nonly_seldom_used_keywords : type\n    Explanation\ncommon_parameters_listed_above : type\n    Explanation\n\nRaises\n------\nBadException\n    Because you shouldn't have done that.\n\nSee Also\n--------\n\n:func:`numpy.array`\n    Relationship (optional).\n:func:`numpy.ndarray`\n    Relationship (optional), which could be fairly long, in which case the line wraps here.\n:func:`numpy.dot`, :func:`numpy.linalg.norm`, :func:`numpy.eye`\n    ..\n\nNotes\n-----\nNotes about the implementation algorithm (if needed).\n\nThis can have multiple paragraphs.\n\nYou may include some math:\n\n.. math:: X(e^{j\\omega } ) = x(n)e^{ - j\\omega n}\n\nAnd even use a Greek symbol like :math:`\\omega` inline.\n\nReferences\n----------\nCite the relevant literature, e.g. [1]_.  You may also cite these\nreferences in the notes section above.\n\n.. [1] O. McNoleg, \"The integration of GIS, remote sensing,\n   expert systems and adaptive co-kriging for environmental habitat\n   modelling of the Highland Haggis using object-oriented, fuzzy-logic\n   and neural-network techniques,\" Computers & Geosciences, vol. 22,\n   pp. 585-588, 1996.\n\nExamples\n--------\nThese are written in doctest format, and should illustrate how to\nuse the function.\n\n>>> a = [1, 2, 3]\n>>> print([x + 3 for x in a])\n[4, 5, 6]\n>>> print(\"a\\nb\")\na\nb\n\n"
    }
   ],
   "source": [
    "doc_obj = foo.docs[0]\n",
    "print(doc_obj)"
   ]
  },
  {
   "cell_type": "markdown",
   "execution_count": 80,
   "metadata": {},
   "outputs": [
    {
     "name": "stdout",
     "output_type": "stream",
     "text": "#### **parse_args(** **  **)** {#signature}\n\nParse args From the command line\n"
    }
   ],
   "source": [
    "Numpy doc parses this data into a dictionary for us automatically. It is stored in `doc._parsed_data`."
   ]
  },
  {
   "cell_type": "code",
   "execution_count": 111,
   "metadata": {},
   "outputs": [
    {
     "data": {
      "text/plain": "{'Signature': \"foo(var1, var2, long_var_name='hi')\",\n 'Summary': ['Summarize the function in one line.'],\n 'Extended Summary': ['Several sentences providing an extended description. Refer to',\n  'variables using back-ticks, e.g. `var`.'],\n 'Parameters': [Parameter(name='var1', type='array_like', desc=['Array_like means all those objects -- lists, nested lists, etc. --', 'that can be converted to an array.  We can also refer to', 'variables like `var1`.']),\n  Parameter(name='var2', type='int', desc=['The type above can either refer to an actual Python type', '(e.g. ``int``), or describe the type of the variable in more', 'detail, e.g. ``(N,) ndarray`` or ``array_like``.']),\n  Parameter(name='long_var_name', type=\"{'hi', 'ho'}, optional\", desc=['Choices in brackets, default first when optional.'])],\n 'Returns': [Parameter(name='', type='type', desc=['Explanation of anonymous return value of type ``type``.']),\n  Parameter(name='describe', type='type', desc=['Explanation of return value named `describe`.']),\n  Parameter(name='out', type='type', desc=['Explanation of `out`.']),\n  Parameter(name='', type='type_without_description', desc=[])],\n 'Yields': [],\n 'Receives': [],\n 'Raises': [Parameter(name='', type='BadException', desc=[\"Because you shouldn't have done that.\"])],\n 'Warns': [],\n 'Other Parameters': [Parameter(name='only_seldom_used_keywords', type='type', desc=['Explanation']),\n  Parameter(name='common_parameters_listed_above', type='type', desc=['Explanation'])],\n 'Attributes': [],\n 'Methods': [],\n 'See Also': [([('numpy.array', None)], ['Relationship (optional).']),\n  ([('numpy.ndarray', None)],\n   ['Relationship (optional), which could be fairly long, in',\n    'which case the line wraps here.']),\n  ([('numpy.dot', None), ('numpy.linalg.norm', None), ('numpy.eye', None)],\n   [])],\n 'Notes': ['Notes about the implementation algorithm (if needed).',\n  '',\n  'This can have multiple paragraphs.',\n  '',\n  'You may include some math:',\n  '',\n  '.. math:: X(e^{j\\\\omega } ) = x(n)e^{ - j\\\\omega n}',\n  '',\n  'And even use a Greek symbol like :math:`\\\\omega` inline.'],\n 'Warnings': [],\n 'References': ['Cite the relevant literature, e.g. [1]_.  You may also cite these',\n  'references in the notes section above.',\n  '',\n  '.. [1] O. McNoleg, \"The integration of GIS, remote sensing,',\n  '   expert systems and adaptive co-kriging for environmental habitat',\n  '   modelling of the Highland Haggis using object-oriented, fuzzy-logic',\n  '   and neural-network techniques,\" Computers & Geosciences, vol. 22,',\n  '   pp. 585-588, 1996.'],\n 'Examples': ['These are written in doctest format, and should illustrate how to',\n  'use the function.',\n  '',\n  '>>> a = [1, 2, 3]',\n  '>>> print([x + 3 for x in a])',\n  '[4, 5, 6]',\n  '>>> print(\"a\\\\nb\")',\n  'a',\n  'b'],\n 'index': {}}"
     },
     "execution_count": 111,
     "metadata": {},
     "output_type": "execute_result"
    }
   ],
   "source": [
    "doc_obj._parsed_data"
   ]
  },
  {
   "cell_type": "code",
   "execution_count": 109,
   "metadata": {},
   "outputs": [
    {
     "data": {
      "text/plain": "(['__abstractmethods__',\n  '__class__',\n  '__contains__',\n  '__delattr__',\n  '__dict__',\n  '__dir__',\n  '__doc__',\n  '__eq__',\n  '__format__',\n  '__ge__',\n  '__getattribute__',\n  '__getitem__',\n  '__gt__',\n  '__hash__',\n  '__init__',\n  '__init_subclass__',\n  '__iter__',\n  '__le__',\n  '__len__',\n  '__lt__',\n  '__module__',\n  '__ne__',\n  '__new__',\n  '__reduce__',\n  '__reduce_ex__',\n  '__repr__',\n  '__reversed__',\n  '__setattr__',\n  '__setitem__',\n  '__sizeof__',\n  '__slots__',\n  '__str__',\n  '__subclasshook__',\n  '__weakref__',\n  '_abc_impl',\n  '_cls',\n  '_description',\n  '_doc',\n  '_error_location',\n  '_func_rgx',\n  '_funcbacktick',\n  '_funcname',\n  '_funcnamenext',\n  '_funcplain',\n  '_is_at_section',\n  '_is_show_member',\n  '_line_rgx',\n  '_mod',\n  '_parse',\n  '_parse_index',\n  '_parse_param_list',\n  '_parse_see_also',\n  '_parse_summary',\n  '_parsed_data',\n  '_read_sections',\n  '_read_to_next_section',\n  '_role',\n  '_str_extended_summary',\n  '_str_header',\n  '_str_indent',\n  '_str_index',\n  '_str_param_list',\n  '_str_section',\n  '_str_see_also',\n  '_str_signature',\n  '_str_summary',\n  '_strip',\n  'empty_description',\n  'extra_public_methods',\n  'get',\n  'items',\n  'keys',\n  'methods',\n  'properties',\n  'sections',\n  'show_inherited_members',\n  'values'],\n ['generate_docs',\n  'get_docs',\n  'get_doctext',\n  'get_members',\n  'get_modules',\n  'get_text',\n  'get_yaml',\n  'ismember',\n  'parse_block',\n  'parse_color_block',\n  'parse_methods',\n  'parse_section',\n  'parse_signature',\n  'parse_text'])"
     },
     "execution_count": 109,
     "metadata": {},
     "output_type": "execute_result"
    }
   ],
   "source": [
    "# print(doc_obj.get_class())\n",
    "dir(doc_obj), doc_obj.methods"
   ]
  },
  {
   "cell_type": "code",
   "execution_count": 136,
   "metadata": {},
   "outputs": [],
   "source": [
    "file_loader = FileSystemLoader('fujin/_templates')\n",
    "env = Environment(\n",
    "    loader=file_loader,\n",
    "    trim_blocks=True,\n",
    "    lstrip_blocks=True\n",
    ")\n",
    "template = env.get_template(\n",
    "    'api-reference-func.tpl', \n",
    "    )\n",
    "output = template.render(\n",
    "    name=doc_obj.get_func()[1],\n",
    "    module=doc_obj.get_func()[0].__module__,\n",
    "    data=doc_obj,\n",
    "    sections=['Parameters', 'Returns', 'Yields', 'Receives', 'Raises', 'Warns', 'Other Parameters']\n",
    "    )\n",
    "\n",
    "with open(\"./docs/docs/API-Reference/Output.md\", \"w+\") as f:\n",
    "    f.write(output)"
   ]
  },
  {
   "cell_type": "code",
   "execution_count": 82,
   "metadata": {},
   "outputs": [
    {
     "ename": "NameError",
     "evalue": "name 'parse_args' is not defined",
     "output_type": "error",
     "traceback": [
      "\u001b[0;31m---------------------------------------------------------------------------\u001b[0m",
      "\u001b[0;31mNameError\u001b[0m                                 Traceback (most recent call last)",
      "\u001b[0;32m<ipython-input-82-6dec234c90ab>\u001b[0m in \u001b[0;36m<module>\u001b[0;34m()\u001b[0m\n\u001b[1;32m      1\u001b[0m \u001b[0;31m# List of paths packages\u001b[0m\u001b[0;34m\u001b[0m\u001b[0;34m\u001b[0m\u001b[0m\n\u001b[0;32m----> 2\u001b[0;31m \u001b[0margs\u001b[0m \u001b[0;34m=\u001b[0m \u001b[0mparse_args\u001b[0m\u001b[0;34m(\u001b[0m\u001b[0;34m)\u001b[0m\u001b[0;34m\u001b[0m\u001b[0m\n\u001b[0m\u001b[1;32m      3\u001b[0m \u001b[0mpackage_dirs\u001b[0m \u001b[0;34m=\u001b[0m \u001b[0margs\u001b[0m\u001b[0;34m.\u001b[0m\u001b[0minput_dirs\u001b[0m\u001b[0;34m\u001b[0m\u001b[0m\n\u001b[1;32m      4\u001b[0m \u001b[0mout_dir\u001b[0m \u001b[0;34m=\u001b[0m \u001b[0margs\u001b[0m\u001b[0;34m.\u001b[0m\u001b[0mout_dir\u001b[0m\u001b[0;34m\u001b[0m\u001b[0m\n\u001b[1;32m      5\u001b[0m \u001b[0;34m\u001b[0m\u001b[0m\n",
      "\u001b[0;31mNameError\u001b[0m: name 'parse_args' is not defined"
     ]
    }
   ],
   "source": [
    "# List of paths packages\n",
    "args = parse_args()\n",
    "package_dirs = args.input_dirs\n",
    "out_dir = args.out_dir\n",
    "\n",
    "assert args.overwrite == os.path.exists(out_dir), \\\n",
    "    \"{0}\".format('Path does not exist' if args.overwrite else 'Not given permission to overwrite')\n",
    "\n",
    "if args.overwrite: shutil.rmtree(out_dir)        "
   ]
  },
  {
   "cell_type": "code",
   "execution_count": null,
   "metadata": {},
   "outputs": [],
   "source": [
    "for module in get_package_contents(package_dirs):\n",
    "    print(str(module))\n",
    "    \n",
    "    file_path = os.path.join(out_dir, args.prefix + module + args.suffix + '.md')\n",
    "    os.makedirs(out_dir, exist_ok=True)\n",
    "\n",
    "    \n",
    "\n",
    "    \n",
    "        intro_txt = 'Writing to path {0}'.format(file_path)\n",
    "        bars = '-' * len(intro_txt)\n",
    "        print('\\t'+bars)\n",
    "        print('\\t'+intro_txt)\n",
    "        # write module details\n",
    "        module = importlib.import_module(module)\n",
    "\n",
    "        \n",
    "        \n",
    "        for name, obj in get_module_contents(module):\n",
    "            print('\\t {0}'.format(name))\n",
    "\n",
    "            if isfunction(obj):\n",
    "                doc = FunctionDoc(obj)\n",
    "            elif isclass(obj):\n",
    "                doc = ClassDoc(obj)\n",
    "\n",
    "            # f.write(str(doc))\n",
    "\n",
    "            s = []\n",
    "            for key, item in doc._parsed_data.items():\n",
    "                if item: # filter for empty collections and None\n",
    "                    try: \n",
    "                        txt = generate_text(key, item)\n",
    "                    except NotImplementedError as e:\n",
    "                        print('\\t\\t Error: {0} autodoc has not been implemented yet'.format(key))\n",
    "                    except KeyError as e:\n",
    "                        print('\\t\\t Error: {0} is not Numpy style docstring'.format(key))\n",
    "                    s.append(txt)\n",
    "            \n",
    "            s.insert(1,'<div class=\\'desc\\' markdown=\"1\">')\n",
    "            s += ['---','</div>']\n",
    "            f.write('\\n'.join(s))\n",
    "        print('\\t'+bars)\n"
   ]
  }
 ]
}