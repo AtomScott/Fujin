{
 "nbformat": 4,
 "nbformat_minor": 2,
 "metadata": {
  "language_info": {
   "name": "python",
   "codemirror_mode": {
    "name": "ipython",
    "version": 3
   },
   "version": "3.6.5"
  },
  "orig_nbformat": 2,
  "file_extension": ".py",
  "mimetype": "text/x-python",
  "name": "python",
  "npconvert_exporter": "python",
  "pygments_lexer": "ipython3",
  "version": 3
 },
 "cells": [
  {
   "cell_type": "code",
   "execution_count": 75,
   "metadata": {},
   "outputs": [
    {
     "name": "stdout",
     "output_type": "stream",
     "text": "The autoreload extension is already loaded. To reload it, use:\n  %reload_ext autoreload\n"
    }
   ],
   "source": [
    "%load_ext autoreload\n",
    "%autoreload 2"
   ]
  },
  {
   "cell_type": "code",
   "execution_count": 76,
   "metadata": {},
   "outputs": [],
   "source": [
    "from fujin import Fujin"
   ]
  },
  {
   "cell_type": "code",
   "execution_count": 77,
   "metadata": {},
   "outputs": [
    {
     "name": "stdout",
     "output_type": "stream",
     "text": "['fujin.fujin']\n['fujin.fujin.Fujin', 'fujin.fujin.parse_args', 'fujin.fujin.tester_func']\n[<numpydoc.docscrape.ClassDoc object at 0x7f4ad0da8a90>, <numpydoc.docscrape.FunctionDoc object at 0x7f4ad0da85c0>, <numpydoc.docscrape.FunctionDoc object at 0x7f4ad0da8710>]\n[<numpydoc.docscrape.ClassDoc object at 0x7f4ad0db2668>, <numpydoc.docscrape.FunctionDoc object at 0x7f4ad0da84e0>, <numpydoc.docscrape.FunctionDoc object at 0x7f4ad0dbcb38>]\n"
    }
   ],
   "source": [
    "package_dirs = ['fujin']\n",
    "foo = Fujin(package_dirs, '', 'docs/docs')\n",
    "\n",
    "# print discovered modules\n",
    "print(foo.get_modules())\n",
    "\n",
    "# print discovered members (functions and classes)\n",
    "print(foo.get_members(['fujin.fujin']))\n",
    "\n",
    "# print discovered objs as doc objs\n",
    "print(foo.get_docs())\n",
    "print(foo.docs)"
   ]
  },
  {
   "cell_type": "code",
   "execution_count": 78,
   "metadata": {},
   "outputs": [
    {
     "name": "stdout",
     "output_type": "stream",
     "text": "['fujin.fujin.Fujin', 'fujin.fujin.parse_args', 'fujin.fujin.tester_func']\n"
    }
   ],
   "source": [
    "# print members of fujin.fujin\n",
    "print(foo.get_members(['fujin.fujin']))"
   ]
  },
  {
   "cell_type": "code",
   "execution_count": 79,
   "metadata": {},
   "outputs": [
    {
     "name": "stdout",
     "output_type": "stream",
     "text": "\n\n\n\nReturns the obj of members of the modules in a Fujin obj\n##### Parameters {#section}\n\n<dl>\n<dt markdown='1'>`modules` : *list*\n</dt>\n\t<dd markdown='1'> A list of modules to  \n</dd>\n\n<dt markdown='1'>` ` : **\n</dt>\n\t<dd markdown='1'>  \n</dd>\n\n<dt markdown='1'>` ` : **\n</dt>\n\t<dd markdown='1'>  \n</dd>\n\n<dt markdown='1'>` ` : **\n</dt>\n\t<dd markdown='1'> A list of objs. \n</dd>\n\n</dl>\n\n\n\n\n\nReturns the path of members of the modules in a Fujin obj\n##### Parameters {#section}\n\n<dl>\n<dt markdown='1'>`modules` : *list*\n</dt>\n\t<dd markdown='1'> A list of modules to  \n</dd>\n\n<dt markdown='1'>` ` : **\n</dt>\n\t<dd markdown='1'>  \n</dd>\n\n<dt markdown='1'>` ` : **\n</dt>\n\t<dd markdown='1'>  \n</dd>\n\n<dt markdown='1'>` ` : **\n</dt>\n\t<dd markdown='1'> A list of paths. paths are joined by a '.' instead of `os.sep`. \n</dd>\n\n</dl>\n\n\n\nReturns the modules in a Fujin obj.\nFinds the modules found in a given list of directories. \n##### Parameters {#section}\n\n<dl>\n<dt markdown='1'>`package_list` : *List*\n</dt>\n\t<dd markdown='1'> A list of paths to each package.Insert `None` to find all modules in the current working directory. \n</dd>\n\n</dl>\n\n##### Returns {#section}\n\n<dl>\n<dt markdown='1'>` ` : **\n</dt>\n\t<dd markdown='1'> A list of module paths, joined by a '.' instead of `os.sep`. \n</dd>\n\n</dl>\n\n##### Examples {#block-header}\n~~~python\n>>> foo = fujin.Fujin(['fujin'])\n>>> print(foo.get_modules())\n['fujin.fujin']\n~~~\n\n\n\n\n\n\n\n\n\n\n\n\n\n\n\n\n\n\n"
    }
   ],
   "source": [
    "print(foo.get_doctext(foo.docs[0]))"
   ]
  },
  {
   "cell_type": "code",
   "execution_count": 80,
   "metadata": {},
   "outputs": [
    {
     "name": "stdout",
     "output_type": "stream",
     "text": "#### **parse_args(** **  **)** {#signature}\n\nParse args From the command line\n"
    }
   ],
   "source": [
    "print(foo.get_doctext(foo.docs[1]))"
   ]
  },
  {
   "cell_type": "code",
   "execution_count": 81,
   "metadata": {},
   "outputs": [
    {
     "name": "stdout",
     "output_type": "stream",
     "text": "#### **tester_func(** *a, b, c*  **)** {#signature}\n\nFunc to test fujin functionality\n##### Parameters {#section}\n\n<dl>\n<dt markdown='1'>`a` : *int*\n</dt>\n\t<dd markdown='1'> variable a \n</dd>\n\n<dt markdown='1'>`b` : *int*\n</dt>\n\t<dd markdown='1'> variable b \n</dd>\n\n<dt markdown='1'>`c` : *int*\n</dt>\n\t<dd markdown='1'> variable c \n</dd>\n\n</dl>\n\n##### Returns {#section}\n\n<dl>\n<dt markdown='1'>` ` : **\n</dt>\n\t<dd markdown='1'> a+b+c \n</dd>\n\n</dl>\n\n"
    }
   ],
   "source": [
    "print(foo.get_doctext(foo.docs[2]))"
   ]
  },
  {
   "cell_type": "code",
   "execution_count": 82,
   "metadata": {},
   "outputs": [
    {
     "ename": "NameError",
     "evalue": "name 'parse_args' is not defined",
     "output_type": "error",
     "traceback": [
      "\u001b[0;31m---------------------------------------------------------------------------\u001b[0m",
      "\u001b[0;31mNameError\u001b[0m                                 Traceback (most recent call last)",
      "\u001b[0;32m<ipython-input-82-6dec234c90ab>\u001b[0m in \u001b[0;36m<module>\u001b[0;34m()\u001b[0m\n\u001b[1;32m      1\u001b[0m \u001b[0;31m# List of paths packages\u001b[0m\u001b[0;34m\u001b[0m\u001b[0;34m\u001b[0m\u001b[0m\n\u001b[0;32m----> 2\u001b[0;31m \u001b[0margs\u001b[0m \u001b[0;34m=\u001b[0m \u001b[0mparse_args\u001b[0m\u001b[0;34m(\u001b[0m\u001b[0;34m)\u001b[0m\u001b[0;34m\u001b[0m\u001b[0m\n\u001b[0m\u001b[1;32m      3\u001b[0m \u001b[0mpackage_dirs\u001b[0m \u001b[0;34m=\u001b[0m \u001b[0margs\u001b[0m\u001b[0;34m.\u001b[0m\u001b[0minput_dirs\u001b[0m\u001b[0;34m\u001b[0m\u001b[0m\n\u001b[1;32m      4\u001b[0m \u001b[0mout_dir\u001b[0m \u001b[0;34m=\u001b[0m \u001b[0margs\u001b[0m\u001b[0;34m.\u001b[0m\u001b[0mout_dir\u001b[0m\u001b[0;34m\u001b[0m\u001b[0m\n\u001b[1;32m      5\u001b[0m \u001b[0;34m\u001b[0m\u001b[0m\n",
      "\u001b[0;31mNameError\u001b[0m: name 'parse_args' is not defined"
     ]
    }
   ],
   "source": [
    "# List of paths packages\n",
    "args = parse_args()\n",
    "package_dirs = args.input_dirs\n",
    "out_dir = args.out_dir\n",
    "\n",
    "assert args.overwrite == os.path.exists(out_dir), \\\n",
    "    \"{0}\".format('Path does not exist' if args.overwrite else 'Not given permission to overwrite')\n",
    "\n",
    "if args.overwrite: shutil.rmtree(out_dir)        "
   ]
  },
  {
   "cell_type": "code",
   "execution_count": null,
   "metadata": {},
   "outputs": [],
   "source": [
    "for module in get_package_contents(package_dirs):\n",
    "    print(str(module))\n",
    "    \n",
    "    file_path = os.path.join(out_dir, args.prefix + module + args.suffix + '.md')\n",
    "    os.makedirs(out_dir, exist_ok=True)\n",
    "\n",
    "    \n",
    "\n",
    "    \n",
    "        intro_txt = 'Writing to path {0}'.format(file_path)\n",
    "        bars = '-' * len(intro_txt)\n",
    "        print('\\t'+bars)\n",
    "        print('\\t'+intro_txt)\n",
    "        # write module details\n",
    "        module = importlib.import_module(module)\n",
    "\n",
    "        \n",
    "        \n",
    "        for name, obj in get_module_contents(module):\n",
    "            print('\\t {0}'.format(name))\n",
    "\n",
    "            if isfunction(obj):\n",
    "                doc = FunctionDoc(obj)\n",
    "            elif isclass(obj):\n",
    "                doc = ClassDoc(obj)\n",
    "\n",
    "            # f.write(str(doc))\n",
    "\n",
    "            s = []\n",
    "            for key, item in doc._parsed_data.items():\n",
    "                if item: # filter for empty collections and None\n",
    "                    try: \n",
    "                        txt = generate_text(key, item)\n",
    "                    except NotImplementedError as e:\n",
    "                        print('\\t\\t Error: {0} autodoc has not been implemented yet'.format(key))\n",
    "                    except KeyError as e:\n",
    "                        print('\\t\\t Error: {0} is not Numpy style docstring'.format(key))\n",
    "                    s.append(txt)\n",
    "            \n",
    "            s.insert(1,'<div class=\\'desc\\' markdown=\"1\">')\n",
    "            s += ['---','</div>']\n",
    "            f.write('\\n'.join(s))\n",
    "        print('\\t'+bars)\n"
   ]
  }
 ]
}